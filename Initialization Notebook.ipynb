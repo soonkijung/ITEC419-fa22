{
  "nbformat": 4,
  "nbformat_minor": 0,
  "metadata": {
    "colab": {
      "name": "Initialization Notebook",
      "provenance": [],
      "collapsed_sections": []
    },
    "kernelspec": {
      "name": "python3",
      "display_name": "Python 3"
    },
    "language_info": {
      "name": "python"
    }
  },
  "cells": [
    {
      "cell_type": "code",
      "metadata": {
        "id": "KcWwBEXioDA2"
      },
      "source": [
        "# This cell mounts github to google drive\n",
        "from google.colab import drive\n",
        "\n",
        "drive.mount('/content/gdrive')\n",
        "root_path = 'gdrive/My Drive/Colab Notebooks/'  \n",
        "\n",
        "%cd /content/gdrive/MyDrive/'Colab Notebooks'/\n",
        "! git clone https://github.com/soonkijung/itec419-fa22.git"
      ],
      "execution_count": null,
      "outputs": []
    }
  ]
}