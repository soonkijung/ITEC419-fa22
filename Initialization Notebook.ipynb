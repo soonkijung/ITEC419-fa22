{
  "nbformat": 4,
  "nbformat_minor": 0,
  "metadata": {
    "colab": {
      "name": "Initialization Notebook",
      "provenance": [],
      "collapsed_sections": []
    },
    "kernelspec": {
      "name": "python3",
      "display_name": "Python 3"
    },
    "language_info": {
      "name": "python"
    }
  },
  "cells": [
    {
      "cell_type": "code",
      "metadata": {
        "id": "KcWwBEXioDA2",
        "colab": {
          "base_uri": "https://localhost:8080/"
        },
        "outputId": "d0b75d38-9570-4dea-e7c1-e92e590e3b4d"
      },
      "source": [
        "# This cell mounts github to google drive\n",
        "from google.colab import drive\n",
        "\n",
        "drive.mount('/content/gdrive')\n",
        "\n",
        "root_path = 'gdrive/MyDrive/'  \n",
        "\n",
        "%cd /content/gdrive/MyDrive/\n",
        "! git clone https://github.com/soonkijung/ITEC419-fa22.git"
      ],
      "execution_count": 2,
      "outputs": [
        {
          "output_type": "stream",
          "name": "stdout",
          "text": [
            "Drive already mounted at /content/gdrive; to attempt to forcibly remount, call drive.mount(\"/content/gdrive\", force_remount=True).\n",
            "/content/gdrive/MyDrive\n",
            "Cloning into 'ITEC419-fa22'...\n",
            "remote: Enumerating objects: 144, done.\u001b[K\n",
            "remote: Counting objects: 100% (66/66), done.\u001b[K\n",
            "remote: Compressing objects: 100% (29/29), done.\u001b[K\n",
            "remote: Total 144 (delta 30), reused 66 (delta 30), pack-reused 78\u001b[K\n",
            "Receiving objects: 100% (144/144), 365.71 KiB | 7.62 MiB/s, done.\n",
            "Resolving deltas: 100% (61/61), done.\n"
          ]
        }
      ]
    }
  ]
}