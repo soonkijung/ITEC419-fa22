{
  "nbformat": 4,
  "nbformat_minor": 0,
  "metadata": {
    "colab": {
      "name": "Initialization Notebook",
      "provenance": [],
      "collapsed_sections": []
    },
    "kernelspec": {
      "name": "python3",
      "display_name": "Python 3"
    },
    "language_info": {
      "name": "python"
    }
  },
  "cells": [
    {
      "cell_type": "code",
      "metadata": {
        "id": "KcWwBEXioDA2",
        "colab": {
          "base_uri": "https://localhost:8080/"
        },
        "outputId": "0e2c10d3-8fc2-4c05-9f90-f56e966e0ae5"
      },
      "source": [
        "# This cell mounts github to google drive\n",
        "from google.colab import drive\n",
        "\n",
        "drive.mount('/content/gdrive')\n",
        "\n",
        "root_path = 'gdrive/MyDrive/'  \n",
        "\n",
        "%cd /content/gdrive/MyDrive/\n",
        "! git clone https://github.com/soonkijung/itec419-fa22.git"
      ],
      "execution_count": 1,
      "outputs": [
        {
          "output_type": "stream",
          "name": "stdout",
          "text": [
            "Mounted at /content/gdrive\n",
            "/content/gdrive/MyDrive\n",
            "Cloning into 'itec419-fa22'...\n",
            "remote: Enumerating objects: 138, done.\u001b[K\n",
            "remote: Counting objects: 100% (60/60), done.\u001b[K\n",
            "remote: Compressing objects: 100% (53/53), done.\u001b[K\n",
            "remote: Total 138 (delta 26), reused 0 (delta 0), pack-reused 78\u001b[K\n",
            "Receiving objects: 100% (138/138), 364.57 KiB | 6.63 MiB/s, done.\n",
            "Resolving deltas: 100% (57/57), done.\n"
          ]
        }
      ]
    }
  ]
}