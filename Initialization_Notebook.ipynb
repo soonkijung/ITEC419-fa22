{
  "nbformat": 4,
  "nbformat_minor": 0,
  "metadata": {
    "colab": {
      "name": "Initialization Notebook.ipynb",
      "provenance": [],
      "collapsed_sections": [],
      "include_colab_link": true
    },
    "kernelspec": {
      "name": "python3",
      "display_name": "Python 3"
    },
    "language_info": {
      "name": "python"
    }
  },
  "cells": [
    {
      "cell_type": "markdown",
      "metadata": {
        "id": "view-in-github",
        "colab_type": "text"
      },
      "source": [
        "<a href=\"https://colab.research.google.com/github/soonkijung/ITEC419-fa22/blob/main/Initialization_Notebook.ipynb\" target=\"_parent\"><img src=\"https://colab.research.google.com/assets/colab-badge.svg\" alt=\"Open In Colab\"/></a>"
      ]
    },
    {
      "cell_type": "code",
      "metadata": {
        "id": "KcWwBEXioDA2",
        "colab": {
          "base_uri": "https://localhost:8080/"
        },
        "outputId": "48b88d42-4907-4786-f9b4-a441c883c5ba"
      },
      "source": [
        "# This cell mounts github to google drive\n",
        "import os\n",
        "from google.colab import drive\n",
        "\n",
        "drive.mount('/content/gdrive')\n",
        "\n",
        "%cd /content/gdrive/MyDrive/\n",
        "\n",
        "if os.path.isdir(\"/content/gdrive/MyDrive/ITEC419-fa22\") == True:\n",
        "    print(\"Already git cloned 'ITEC419-fa22.git'\")\n",
        "    %cd ITEC419-fa22/\n",
        "    ! git pull https://github.com/soonkijung/ITEC419-fa22.git\n",
        "else:\n",
        "    # You need to git clone ITEC419-fa22.git\n",
        "    ! git clone https://github.com/soonkijung/ITEC419-fa22.git\n",
        "    %cd ITEC419-fa22/"
      ],
      "execution_count": 17,
      "outputs": [
        {
          "output_type": "stream",
          "name": "stdout",
          "text": [
            "Drive already mounted at /content/gdrive; to attempt to forcibly remount, call drive.mount(\"/content/gdrive\", force_remount=True).\n",
            "/content/gdrive/MyDrive\n",
            "'ITEC419-fa22.git' was already cloned\n",
            "/content/gdrive/MyDrive/ITEC419-fa22\n",
            "From https://github.com/soonkijung/ITEC419-fa22\n",
            " * branch            HEAD       -> FETCH_HEAD\n",
            "Already up to date.\n"
          ]
        }
      ]
    },
    {
      "cell_type": "code",
      "source": [
        "# git clone을 통해 파일 복사를 하지 않았을 경우 실행\n",
        "! git clone https://github.com/soonkijung/ITEC419-fa22.git"
      ],
      "metadata": {
        "colab": {
          "base_uri": "https://localhost:8080/"
        },
        "id": "nNvuxse8Ie09",
        "outputId": "5f20130b-b227-490a-f41f-189894c625f0"
      },
      "execution_count": 15,
      "outputs": [
        {
          "output_type": "stream",
          "name": "stdout",
          "text": [
            "fatal: destination path 'ITEC419-fa22' already exists and is not an empty directory.\n"
          ]
        }
      ]
    },
    {
      "cell_type": "code",
      "source": [
        "# git clone을 통해 파일이 이미 복사되어 있을 경우 pull을 통해서 업데이트\n",
        "%cd /content/gdrive/MyDrive/ITEC419-fa22/\n",
        "! git pull https://github.com/soonkijung/ITEC419-fa22.git"
      ],
      "metadata": {
        "colab": {
          "base_uri": "https://localhost:8080/"
        },
        "id": "bc3cQHwsFvcM",
        "outputId": "d5be5a55-8d17-4c38-95ec-b2805bf2c461"
      },
      "execution_count": 16,
      "outputs": [
        {
          "output_type": "stream",
          "name": "stdout",
          "text": [
            "/content/gdrive/MyDrive/ITEC419-fa22\n",
            "From https://github.com/soonkijung/ITEC419-fa22\n",
            " * branch            HEAD       -> FETCH_HEAD\n",
            "Already up to date.\n"
          ]
        }
      ]
    }
  ]
}