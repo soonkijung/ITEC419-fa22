{
  "nbformat": 4,
  "nbformat_minor": 0,
  "metadata": {
    "celltoolbar": "Edit Metadata",
    "kernelspec": {
      "display_name": "Python 3",
      "language": "python",
      "name": "python3"
    },
    "language_info": {
      "codemirror_mode": {
        "name": "ipython",
        "version": 3
      },
      "file_extension": ".py",
      "mimetype": "text/x-python",
      "name": "python",
      "nbconvert_exporter": "python",
      "pygments_lexer": "ipython3",
      "version": "3.9.5"
    },
    "colab": {
      "name": "hw02.ipynb",
      "provenance": [],
      "collapsed_sections": [
        "dxdzX-7t8v68",
        "7DhDNrCj8v7A",
        "mdj9Iy3x8v7E",
        "3p65542W8v7G",
        "LorOnv7N8v7J"
      ]
    }
  },
  "cells": [
    {
      "cell_type": "code",
      "metadata": {
        "id": "uPhOQWfF9D-l"
      },
      "source": [
        "!pip install otter-grader==1.1.6\n",
        "\n",
        "from google.colab import drive\n",
        "\n",
        "drive.mount('/content/gdrive')\n",
        "\n",
        "%cd /content/gdrive/MyDrive/'Colab Notebooks'//hw/hw02"
      ],
      "execution_count": null,
      "outputs": []
    },
    {
      "cell_type": "code",
      "metadata": {
        "deletable": false,
        "editable": false,
        "id": "ZupenAWa8v60"
      },
      "source": [
        "# Initialize Otter\n",
        "import otter\n",
        "grader = otter.Notebook()"
      ],
      "execution_count": null,
      "outputs": []
    },
    {
      "cell_type": "markdown",
      "metadata": {
        "id": "l_CEbzQT8v63"
      },
      "source": [
        "# Homework 2: Arrays and Tables"
      ]
    },
    {
      "cell_type": "code",
      "metadata": {
        "id": "309rNpzM8v64"
      },
      "source": [
        "# Don't change this cell; just run it.\n",
        "# When you log-in please hit return (not shift + return) after typing in your email\n",
        "import numpy as np\n",
        "from datascience import *"
      ],
      "execution_count": null,
      "outputs": []
    },
    {
      "cell_type": "markdown",
      "metadata": {
        "id": "nao9pEGE8v64"
      },
      "source": [
        "**Recommended Reading**: \n",
        "* [Data Types](https://www.inferentialthinking.com/chapters/04/data-types.html) \n",
        "* [Sequences](https://www.inferentialthinking.com/chapters/05/sequences.html)\n",
        "* [Tables](https://www.inferentialthinking.com/chapters/06/tables.html)"
      ]
    },
    {
      "cell_type": "markdown",
      "metadata": {
        "id": "PZMaJ_K88v64"
      },
      "source": [
        "Please complete this notebook by filling in the cells provided.\n",
        " \n",
        "Throughout this homework and all future ones, please be sure to not re-assign variables throughout the notebook! For example, if you use `max_temperature` in your answer to one question, do not reassign it later on. "
      ]
    },
    {
      "cell_type": "markdown",
      "metadata": {
        "id": "j3wfcG1G8v65"
      },
      "source": [
        "## 1. Creating Arrays\n"
      ]
    },
    {
      "cell_type": "markdown",
      "metadata": {
        "deletable": false,
        "editable": false,
        "id": "JHA0VAsD8v65"
      },
      "source": [
        "**Question 1.** Make an array called `weird_numbers` containing the following numbers (in the given order):\n",
        "\n",
        "1. -2\n",
        "2. the sine of 1.2\n",
        "3. 3\n",
        "4. 5 to the power of the cosine of 1.2\n",
        "\n",
        "*Hint:* `sin` and `cos` are functions in the `math` module.\n",
        "\n",
        "*Note:* Python lists are different/behave differently than numpy arrays. In Data 8, we use numpy arrays, so please make an **array**, not a python list.\n",
        "\n",
        "<!--\n",
        "BEGIN QUESTION\n",
        "name: q1_1\n",
        "-->"
      ]
    },
    {
      "cell_type": "code",
      "metadata": {
        "id": "9AtT4Nwg8v66"
      },
      "source": [
        "# Our solution involved one extra line of code before creating\n",
        "# weird_numbers.\n",
        "...\n",
        "weird_numbers = ...\n",
        "weird_numbers"
      ],
      "execution_count": null,
      "outputs": []
    },
    {
      "cell_type": "code",
      "metadata": {
        "deletable": false,
        "editable": false,
        "id": "sEGDwfUd8v66"
      },
      "source": [
        "grader.check(\"q1_1\")"
      ],
      "execution_count": null,
      "outputs": []
    },
    {
      "cell_type": "markdown",
      "metadata": {
        "deletable": false,
        "editable": false,
        "id": "WEhi0zhg8v67"
      },
      "source": [
        "**Question 2.** Make an array called `book_title_words` containing the following three strings: \"Eats\", \"Shoots\", and \"and Leaves\".\n",
        "\n",
        "<!--\n",
        "BEGIN QUESTION\n",
        "name: q1_2\n",
        "-->"
      ]
    },
    {
      "cell_type": "code",
      "metadata": {
        "id": "FFXMZfTS8v67"
      },
      "source": [
        "book_title_words = ...\n",
        "book_title_words"
      ],
      "execution_count": null,
      "outputs": []
    },
    {
      "cell_type": "code",
      "metadata": {
        "deletable": false,
        "editable": false,
        "id": "HKBnYmR28v67"
      },
      "source": [
        "grader.check(\"q1_2\")"
      ],
      "execution_count": null,
      "outputs": []
    },
    {
      "cell_type": "markdown",
      "metadata": {
        "deletable": false,
        "editable": false,
        "id": "DhDGROLY8v67"
      },
      "source": [
        "Strings have a method called `join`.  `join` takes one argument, an array of strings.  It returns a single string.  Specifically, the value of `a_string.join(an_array)` is a single string that's the [concatenation](https://en.wikipedia.org/wiki/Concatenation) (\"putting together\") of all the strings in `an_array`, **except** `a_string` is inserted in between each string.\n",
        "\n",
        "**Question 3.** Use the array `book_title_words` and the method `join` to make two strings:\n",
        "\n",
        "1. \"Eats, Shoots, and Leaves\" (call this one `with_commas`)\n",
        "2. \"Eats Shoots and Leaves\" (call this one `without_commas`)\n",
        "\n",
        "*Hint:* If you're not sure what `join` does, first try just calling, for example, `\"foo\".join(book_title_words)` .\n",
        "\n",
        "<!--\n",
        "BEGIN QUESTION\n",
        "name: q1_3\n",
        "-->"
      ]
    },
    {
      "cell_type": "code",
      "metadata": {
        "id": "PegjggIF8v68"
      },
      "source": [
        "with_commas = ...\n",
        "without_commas = ...\n",
        "\n",
        "# These lines are provided just to print out your answers.\n",
        "print('with_commas:', with_commas)\n",
        "print('without_commas:', without_commas)"
      ],
      "execution_count": null,
      "outputs": []
    },
    {
      "cell_type": "code",
      "metadata": {
        "deletable": false,
        "editable": false,
        "id": "LM0fQOlM8v68"
      },
      "source": [
        "grader.check(\"q1_3\")"
      ],
      "execution_count": null,
      "outputs": []
    },
    {
      "cell_type": "markdown",
      "metadata": {
        "id": "dxdzX-7t8v68"
      },
      "source": [
        "## 2. Indexing Arrays\n"
      ]
    },
    {
      "cell_type": "markdown",
      "metadata": {
        "id": "BXYLb5G58v68"
      },
      "source": [
        "These exercises give you practice accessing individual elements of arrays.  In Python (and in many programming languages), elements are accessed by *index*, so the first element is the element at index 0.\n",
        "\n",
        "*Note:* Please don't use bracket notation when indexing (i.e. `arr[0]`), as this can yield different data type outputs than what we will be expecting. This can cause you to fail an autograder test."
      ]
    },
    {
      "cell_type": "markdown",
      "metadata": {
        "deletable": false,
        "editable": false,
        "id": "VI2X06SL8v69"
      },
      "source": [
        "**Question 1.** The cell below creates an array of some numbers.  Set `third_element` to the third element of `some_numbers`.\n",
        "\n",
        "<!--\n",
        "BEGIN QUESTION\n",
        "name: q2_1\n",
        "-->"
      ]
    },
    {
      "cell_type": "code",
      "metadata": {
        "id": "OiVj_--B8v69"
      },
      "source": [
        "some_numbers = make_array(-1, -3, -6, -10, -15)\n",
        "\n",
        "third_element = ...\n",
        "third_element"
      ],
      "execution_count": null,
      "outputs": []
    },
    {
      "cell_type": "code",
      "metadata": {
        "deletable": false,
        "editable": false,
        "id": "FGsSl7JA8v69"
      },
      "source": [
        "grader.check(\"q2_1\")"
      ],
      "execution_count": null,
      "outputs": []
    },
    {
      "cell_type": "markdown",
      "metadata": {
        "deletable": false,
        "editable": false,
        "id": "_fpsLAYA8v6-"
      },
      "source": [
        "**Question 2.** The next cell creates a table that displays some information about the elements of `some_numbers` and their order.  Run the cell to see the partially-completed table, then fill in the missing information (the cells that say \"Ellipsis\") by assigning `blank_a`, `blank_b`, `blank_c`, and `blank_d` to the correct elements in the table.\n",
        "\n",
        "<!--\n",
        "BEGIN QUESTION\n",
        "name: q2_2\n",
        "-->"
      ]
    },
    {
      "cell_type": "code",
      "metadata": {
        "for_assignment_type": "student",
        "id": "ZgaiOjPj8v6-"
      },
      "source": [
        "blank_a = ...\n",
        "blank_b = ...\n",
        "blank_c = ...\n",
        "blank_d = ...\n",
        "elements_of_some_numbers = Table().with_columns(\n",
        "    \"English name for position\", make_array(\"first\", \"second\", blank_a, blank_b, \"fifth\"),\n",
        "    \"Index\",                     make_array(blank_c, 1, 2, blank_d, 4),\n",
        "    \"Element\",                   some_numbers)\n",
        "elements_of_some_numbers"
      ],
      "execution_count": null,
      "outputs": []
    },
    {
      "cell_type": "code",
      "metadata": {
        "deletable": false,
        "editable": false,
        "id": "DtM0gLyI8v6-"
      },
      "source": [
        "grader.check(\"q2_2\")"
      ],
      "execution_count": null,
      "outputs": []
    },
    {
      "cell_type": "markdown",
      "metadata": {
        "deletable": false,
        "editable": false,
        "id": "nTq9IR0H8v6-"
      },
      "source": [
        "**Question 3.** You'll sometimes want to find the *last* element of an array.  Suppose an array has 142 elements.  What is the index of its last element?\n",
        "\n",
        "<!--\n",
        "BEGIN QUESTION\n",
        "name: q2_3\n",
        "-->"
      ]
    },
    {
      "cell_type": "code",
      "metadata": {
        "id": "MhJ7kvD58v6_"
      },
      "source": [
        "index_of_last_element = ..."
      ],
      "execution_count": null,
      "outputs": []
    },
    {
      "cell_type": "code",
      "metadata": {
        "deletable": false,
        "editable": false,
        "id": "uryhpOPM8v6_"
      },
      "source": [
        "grader.check(\"q2_3\")"
      ],
      "execution_count": null,
      "outputs": []
    },
    {
      "cell_type": "markdown",
      "metadata": {
        "deletable": false,
        "editable": false,
        "id": "ieRyMrWF8v6_"
      },
      "source": [
        "More often, you don't know the number of elements in an array, its *length*.  (For example, it might be a large dataset you found on the Internet.)  The function `len` takes a single argument, an array, and returns the `len`gth of that array (an integer).\n",
        "\n",
        "**Question 4.** The cell below loads an array called `president_birth_years`.  Calling `.column(...)` on a table returns an array of the column specified, in this case the `Birth Year` column of the `president_births` table. The last element in that array is the most recent birth year of any deceased president. Assign that year to `most_recent_birth_year`.\n",
        "\n",
        "<!--\n",
        "BEGIN QUESTION\n",
        "name: q2_4\n",
        "-->"
      ]
    },
    {
      "cell_type": "code",
      "metadata": {
        "id": "ODXlOdI18v6_"
      },
      "source": [
        "president_birth_years = Table.read_table(\"president_births.csv\").column('Birth Year')\n",
        "\n",
        "most_recent_birth_year = ...\n",
        "most_recent_birth_year"
      ],
      "execution_count": null,
      "outputs": []
    },
    {
      "cell_type": "code",
      "metadata": {
        "deletable": false,
        "editable": false,
        "id": "L_T4nWHn8v7A"
      },
      "source": [
        "grader.check(\"q2_4\")"
      ],
      "execution_count": null,
      "outputs": []
    },
    {
      "cell_type": "markdown",
      "metadata": {
        "deletable": false,
        "editable": false,
        "id": "Ez1Lgyse8v7A"
      },
      "source": [
        "**Question 5.** Finally, assign `sum_of_birth_years` to the sum of the first, tenth, and last birth year in `president_birth_years`.\n",
        "\n",
        "<!--\n",
        "BEGIN QUESTION\n",
        "name: q2_5\n",
        "-->"
      ]
    },
    {
      "cell_type": "code",
      "metadata": {
        "id": "SF90xsT-8v7A"
      },
      "source": [
        "sum_of_birth_years = ..."
      ],
      "execution_count": null,
      "outputs": []
    },
    {
      "cell_type": "code",
      "metadata": {
        "deletable": false,
        "editable": false,
        "id": "PAGyX5KZ8v7A"
      },
      "source": [
        "grader.check(\"q2_5\")"
      ],
      "execution_count": null,
      "outputs": []
    },
    {
      "cell_type": "markdown",
      "metadata": {
        "id": "7DhDNrCj8v7A"
      },
      "source": [
        "## 3. Basic Array Arithmetic\n"
      ]
    },
    {
      "cell_type": "markdown",
      "metadata": {
        "deletable": false,
        "editable": false,
        "id": "HDKvYtTB8v7B"
      },
      "source": [
        "**Question 1.** Multiply the numbers 42, 4224, 42422424, and -250 by 157. Assign each variable below such that `first_product` is assigned to the result of $42 * 157$, `second_product` is assigned to the result of $4224 * 157$, and so on. \n",
        "\n",
        "For this question, **don't** use arrays.\n",
        "\n",
        "<!--\n",
        "BEGIN QUESTION\n",
        "name: q3_1\n",
        "-->"
      ]
    },
    {
      "cell_type": "code",
      "metadata": {
        "id": "TQf2Pb1Y8v7B"
      },
      "source": [
        "first_product = ...\n",
        "second_product = ...\n",
        "third_product = ...\n",
        "fourth_product = ...\n",
        "print(first_product, second_product, third_product, fourth_product)"
      ],
      "execution_count": null,
      "outputs": []
    },
    {
      "cell_type": "code",
      "metadata": {
        "deletable": false,
        "editable": false,
        "id": "_OgDTYEU8v7B"
      },
      "source": [
        "grader.check(\"q3_1\")"
      ],
      "execution_count": null,
      "outputs": []
    },
    {
      "cell_type": "markdown",
      "metadata": {
        "deletable": false,
        "editable": false,
        "id": "1AH11Fyp8v7B"
      },
      "source": [
        "**Question 2.** Now, do the same calculation, but using an array called `numbers` and only a single multiplication (`*`) operator.  Store the 4 results in an array named `products`.\n",
        "\n",
        "<!--\n",
        "BEGIN QUESTION\n",
        "name: q3_2\n",
        "-->"
      ]
    },
    {
      "cell_type": "code",
      "metadata": {
        "id": "qJSEf0It8v7B"
      },
      "source": [
        "numbers = ...\n",
        "products = numbers * 157\n",
        "products"
      ],
      "execution_count": null,
      "outputs": []
    },
    {
      "cell_type": "code",
      "metadata": {
        "deletable": false,
        "editable": false,
        "id": "FAlRIo9q8v7C"
      },
      "source": [
        "grader.check(\"q3_2\")"
      ],
      "execution_count": null,
      "outputs": []
    },
    {
      "cell_type": "markdown",
      "metadata": {
        "deletable": false,
        "editable": false,
        "id": "cLVYrMMg8v7C"
      },
      "source": [
        "**Question 3.** Oops, we made a typo!  Instead of 157, we wanted to multiply each number by 1577.  Compute the correct products in the cell below using array arithmetic.  Notice that your job is really easy if you previously defined an array containing the 4 numbers.\n",
        "\n",
        "<!--\n",
        "BEGIN QUESTION\n",
        "name: q3_3\n",
        "-->"
      ]
    },
    {
      "cell_type": "code",
      "metadata": {
        "id": "Q0W9Bv7S8v7C"
      },
      "source": [
        "correct_products = ...\n",
        "correct_products"
      ],
      "execution_count": null,
      "outputs": []
    },
    {
      "cell_type": "code",
      "metadata": {
        "deletable": false,
        "editable": false,
        "id": "tMgc6noK8v7C"
      },
      "source": [
        "grader.check(\"q3_3\")"
      ],
      "execution_count": null,
      "outputs": []
    },
    {
      "cell_type": "markdown",
      "metadata": {
        "deletable": false,
        "editable": false,
        "id": "zYC39g_G8v7C"
      },
      "source": [
        "**Question 4.** We've loaded an array of temperatures in the next cell.  Each number is the highest temperature observed on a day at a climate observation station, mostly from the US.  Since they're from the US government agency [NOAA](noaa.gov), all the temperatures are in Fahrenheit.  Convert them all to Celsius by first subtracting 32 from them, then multiplying the results by $\\frac{5}{9}$. Make sure to **ROUND** the final result after converting to Celsius to the nearest integer using the `np.round` function.\n",
        "\n",
        "<!--\n",
        "BEGIN QUESTION\n",
        "name: q3_4\n",
        "-->"
      ]
    },
    {
      "cell_type": "code",
      "metadata": {
        "id": "x8-pVUEb8v7D"
      },
      "source": [
        "max_temperatures = Table.read_table(\"temperatures.csv\").column(\"Daily Max Temperature\")\n",
        "\n",
        "celsius_max_temperatures = ...\n",
        "celsius_max_temperatures"
      ],
      "execution_count": null,
      "outputs": []
    },
    {
      "cell_type": "code",
      "metadata": {
        "deletable": false,
        "editable": false,
        "id": "VsEkPuDP8v7D"
      },
      "source": [
        "grader.check(\"q3_4\")"
      ],
      "execution_count": null,
      "outputs": []
    },
    {
      "cell_type": "markdown",
      "metadata": {
        "deletable": false,
        "editable": false,
        "id": "sNphOJ4_8v7D"
      },
      "source": [
        "**Question 5.** The cell below loads all the *lowest* temperatures from each day (in Fahrenheit).  Compute the size of the daily temperature range for each day.  That is, compute the difference between each daily maximum temperature and the corresponding daily minimum temperature.  **Pay attention to the units, give your answer in Celsius!** Make sure **NOT** to round your answer for this question!\n",
        "\n",
        "<!--\n",
        "BEGIN QUESTION\n",
        "name: q3_5\n",
        "-->"
      ]
    },
    {
      "cell_type": "code",
      "metadata": {
        "id": "MK0wELjj8v7D"
      },
      "source": [
        "min_temperatures = Table.read_table(\"temperatures.csv\").column(\"Daily Min Temperature\")\n",
        "\n",
        "celsius_temperature_ranges = ...\n",
        "celsius_temperature_ranges"
      ],
      "execution_count": null,
      "outputs": []
    },
    {
      "cell_type": "code",
      "metadata": {
        "deletable": false,
        "editable": false,
        "id": "hP2AZV7l8v7D"
      },
      "source": [
        "grader.check(\"q3_5\")"
      ],
      "execution_count": null,
      "outputs": []
    },
    {
      "cell_type": "markdown",
      "metadata": {
        "id": "mdj9Iy3x8v7E"
      },
      "source": [
        "## 4. World Population\n"
      ]
    },
    {
      "cell_type": "markdown",
      "metadata": {
        "id": "67flhL_J8v7E"
      },
      "source": [
        "Remember that the tests from this point on will **not** necessarily tell you whether or not your answers are correct."
      ]
    },
    {
      "cell_type": "markdown",
      "metadata": {
        "collapsed": true,
        "id": "Bgpact4a8v7E"
      },
      "source": [
        "The cell below loads a table of estimates of the world population for different years, starting in 1950. The estimates come from the [US Census Bureau website](https://www.census.gov/en.html)."
      ]
    },
    {
      "cell_type": "code",
      "metadata": {
        "id": "_woaFzHX8v7E"
      },
      "source": [
        "world = Table.read_table(\"world_population.csv\").select('Year', 'Population')\n",
        "world.show(4)"
      ],
      "execution_count": null,
      "outputs": []
    },
    {
      "cell_type": "markdown",
      "metadata": {
        "id": "8NuDovT-8v7E"
      },
      "source": [
        "The name `population` is assigned to an array of population estimates."
      ]
    },
    {
      "cell_type": "code",
      "metadata": {
        "id": "ifmutLnb8v7E"
      },
      "source": [
        "population = world.column(1)\n",
        "population"
      ],
      "execution_count": null,
      "outputs": []
    },
    {
      "cell_type": "markdown",
      "metadata": {
        "id": "M0DLo8S88v7E"
      },
      "source": [
        "In this question, you will apply some built-in Numpy functions to this array. Numpy is a module that is often used in Data Science!"
      ]
    },
    {
      "cell_type": "markdown",
      "metadata": {
        "id": "IkS0Zd8F8v7F"
      },
      "source": [
        "<img src=\"https://github.com/soonkijung/itec419-fa22/blob/main/hw/hw01/array_diff.png?raw=1\" style=\"width: 600px;\"/>\n",
        "\n",
        "The difference function `np.diff` subtracts each element in an array from the element after it within the array. As a result, the length of the array `np.diff` returns will always be one less than the length of the input array."
      ]
    },
    {
      "cell_type": "markdown",
      "metadata": {
        "id": "m9h6aT5Z8v7F"
      },
      "source": [
        "<img src=\"https://github.com/soonkijung/itec419-fa22/blob/main/hw/hw01/array_cumsum.png?raw=1\" style=\"width: 700px;\"/>\n",
        "\n",
        "The cumulative sum function `np.cumsum` outputs an array of partial sums. For example, the third element in the output array corresponds to the sum of the first, second, and third elements."
      ]
    },
    {
      "cell_type": "markdown",
      "metadata": {
        "deletable": false,
        "editable": false,
        "id": "EJ_3sFyO8v7F"
      },
      "source": [
        "**Question 1.** Very often in data science, we are interested understanding how values change with time. Use `np.diff` and `np.max` (or just `max`) to calculate the largest annual change in population between any two consecutive years.\n",
        "\n",
        "<!--\n",
        "BEGIN QUESTION\n",
        "name: q4_1\n",
        "-->"
      ]
    },
    {
      "cell_type": "code",
      "metadata": {
        "id": "6Rlopb1k8v7F"
      },
      "source": [
        "largest_population_change = ...\n",
        "largest_population_change"
      ],
      "execution_count": null,
      "outputs": []
    },
    {
      "cell_type": "code",
      "metadata": {
        "deletable": false,
        "editable": false,
        "id": "QoxBwbTi8v7F"
      },
      "source": [
        "grader.check(\"q4_1\")"
      ],
      "execution_count": null,
      "outputs": []
    },
    {
      "cell_type": "markdown",
      "metadata": {
        "id": "f7qDIduy8v7F"
      },
      "source": [
        "**Question 2.** What do the values in the resulting array represent (choose one)?"
      ]
    },
    {
      "cell_type": "code",
      "metadata": {
        "id": "sQ3Y4eq_8v7G"
      },
      "source": [
        "np.cumsum(np.diff(population))"
      ],
      "execution_count": null,
      "outputs": []
    },
    {
      "cell_type": "markdown",
      "metadata": {
        "deletable": false,
        "editable": false,
        "id": "uLwZnfVQ8v7G"
      },
      "source": [
        "1) The total population change between consecutive years, starting at 1951.\n",
        "\n",
        "2) The total population change between 1950 and each later year, starting at 1951.\n",
        "\n",
        "3) The total population change between 1950 and each later year, starting inclusively at 1950.\n",
        "\n",
        "<!--\n",
        "BEGIN QUESTION\n",
        "name: q4_2\n",
        "-->"
      ]
    },
    {
      "cell_type": "code",
      "metadata": {
        "id": "TRz81S7e8v7G"
      },
      "source": [
        "# Assign cumulative_sum_answer to 1, 2, or 3\n",
        "cumulative_sum_answer = ..."
      ],
      "execution_count": null,
      "outputs": []
    },
    {
      "cell_type": "code",
      "metadata": {
        "deletable": false,
        "editable": false,
        "id": "j0g3GEeP8v7G"
      },
      "source": [
        "grader.check(\"q4_2\")"
      ],
      "execution_count": null,
      "outputs": []
    },
    {
      "cell_type": "markdown",
      "metadata": {
        "id": "3p65542W8v7G"
      },
      "source": [
        "## 5. Old Faithful\n"
      ]
    },
    {
      "cell_type": "markdown",
      "metadata": {
        "id": "ZrGjrOtW8v7G"
      },
      "source": [
        "Old Faithful is a geyser in Yellowstone that erupts every 44 to 125 minutes (according to [Wikipedia](https://en.wikipedia.org/wiki/Old_Faithful)). People are [often told that the geyser erupts every hour](http://yellowstone.net/geysers/old-faithful/), but in fact the waiting time between eruptions is more variable. Let's take a look."
      ]
    },
    {
      "cell_type": "markdown",
      "metadata": {
        "deletable": false,
        "editable": false,
        "id": "4JH161x68v7H"
      },
      "source": [
        "**Question 1.** The first line below assigns `waiting_times` to an array of 272 consecutive waiting times between eruptions, taken from a classic 1938 dataset. Assign the names `shortest`, `longest`, and `average` so that the `print` statement is correct.\n",
        "\n",
        "<!--\n",
        "BEGIN QUESTION\n",
        "name: q5_1\n",
        "-->"
      ]
    },
    {
      "cell_type": "code",
      "metadata": {
        "id": "scmptV_s8v7H"
      },
      "source": [
        "waiting_times = Table.read_table('old_faithful.csv').column('waiting')\n",
        "\n",
        "shortest = ...\n",
        "longest = ...\n",
        "average = ...\n",
        "\n",
        "print(\"Old Faithful erupts every\", shortest, \"to\", longest, \"minutes and every\", average, \"minutes on average.\")"
      ],
      "execution_count": null,
      "outputs": []
    },
    {
      "cell_type": "code",
      "metadata": {
        "deletable": false,
        "editable": false,
        "id": "_GM21_mO8v7H"
      },
      "source": [
        "grader.check(\"q5_1\")"
      ],
      "execution_count": null,
      "outputs": []
    },
    {
      "cell_type": "markdown",
      "metadata": {
        "deletable": false,
        "editable": false,
        "id": "nrRQ6qzZ8v7H"
      },
      "source": [
        "**Question 2.** Assign `biggest_decrease` to the biggest decrease in waiting time between two consecutive eruptions. For example, the third eruption occurred after 74 minutes and the fourth after 62 minutes, so the decrease in waiting time was 74 - 62 = 12 minutes. \n",
        "\n",
        "*Hint 1*: You'll need an array arithmetic function [mentioned in the textbook](https://www.inferentialthinking.com/chapters/05/1/arrays.html#Functions-on-Arrays). You have also seen this function earlier in the homework!\n",
        "\n",
        "*Hint 2*: We want to return the absolute value of the biggest decrease.\n",
        "\n",
        "<!--\n",
        "BEGIN QUESTION\n",
        "name: q5_2\n",
        "-->"
      ]
    },
    {
      "cell_type": "code",
      "metadata": {
        "id": "jc80mpGu8v7I"
      },
      "source": [
        "biggest_decrease = ...\n",
        "biggest_decrease"
      ],
      "execution_count": null,
      "outputs": []
    },
    {
      "cell_type": "code",
      "metadata": {
        "deletable": false,
        "editable": false,
        "id": "utIldulz8v7I"
      },
      "source": [
        "grader.check(\"q5_2\")"
      ],
      "execution_count": null,
      "outputs": []
    },
    {
      "cell_type": "markdown",
      "metadata": {
        "deletable": false,
        "editable": false,
        "id": "nNPrRMew8v7I"
      },
      "source": [
        "**Question 3.** If you expected Old Faithful to erupt every hour, you would expect to wait a total of `60 * k` minutes to see `k` eruptions. Set `difference_from_expected` to an array with 272 elements, where the element at index `i` is the absolute difference between the expected and actual total amount of waiting time to see the first `i+1` eruptions. \n",
        "\n",
        "*Hint*: You'll need to compare a cumulative sum to a range. You'll go through `np.arange` more thoroughly in Lab 3, but you can read about it in this [textbook section](https://www.inferentialthinking.com/chapters/05/2/Ranges.html).\n",
        "\n",
        "For example, since the first three waiting times are 79, 54, and 74, the total waiting time for 3 eruptions is 79 + 54 + 74 = 207. The expected waiting time for 3 eruptions is 60 * 3 = 180. Therefore, `difference_from_expected.item(2)` should be $|207 - 180| = 27$.\n",
        "\n",
        "<!--\n",
        "BEGIN QUESTION\n",
        "name: q5_3\n",
        "-->"
      ]
    },
    {
      "cell_type": "code",
      "metadata": {
        "id": "sM3mNIJd8v7J"
      },
      "source": [
        "difference_from_expected = ...\n",
        "difference_from_expected"
      ],
      "execution_count": null,
      "outputs": []
    },
    {
      "cell_type": "code",
      "metadata": {
        "deletable": false,
        "editable": false,
        "id": "Lr5-3GF_8v7J"
      },
      "source": [
        "grader.check(\"q5_3\")"
      ],
      "execution_count": null,
      "outputs": []
    },
    {
      "cell_type": "markdown",
      "metadata": {
        "deletable": false,
        "editable": false,
        "id": "7wywRGmy8v7J"
      },
      "source": [
        "**Question 4.** Let’s imagine your guess for the next wait time was always just the length of the previous waiting time. If you always guessed the previous waiting time, how big would your error in guessing the waiting times be, on average?\n",
        "\n",
        "For example, since the first three waiting times are 79, 54, and 74, the average difference between your guess and the actual time for just the second and third eruption would be $\\frac{|79-54|+ |54-74|}{2} = 22.5$.\n",
        "\n",
        "<!--\n",
        "BEGIN QUESTION\n",
        "name: q5_4\n",
        "-->"
      ]
    },
    {
      "cell_type": "code",
      "metadata": {
        "id": "SznJPUwn8v7J"
      },
      "source": [
        "average_error = ...\n",
        "average_error"
      ],
      "execution_count": null,
      "outputs": []
    },
    {
      "cell_type": "code",
      "metadata": {
        "deletable": false,
        "editable": false,
        "id": "06fk5P6R8v7J"
      },
      "source": [
        "grader.check(\"q5_4\")"
      ],
      "execution_count": null,
      "outputs": []
    },
    {
      "cell_type": "markdown",
      "metadata": {
        "id": "LorOnv7N8v7J"
      },
      "source": [
        "## 6. Tables\n"
      ]
    },
    {
      "cell_type": "markdown",
      "metadata": {
        "deletable": false,
        "editable": false,
        "id": "Z1byovYY8v7K"
      },
      "source": [
        "**Question 1.** Suppose you have 4 apples, 3 oranges, and 3 pineapples.  (Perhaps you're using Python to solve a high school Algebra problem.)  Create a table that contains this information.  It should have two columns: `fruit name` and `count`.  Assign the new table to the variable `fruits`.\n",
        "\n",
        "**Note:** Use lower-case and singular words for the name of each fruit, like `\"apple\"`.\n",
        "\n",
        "<!--\n",
        "BEGIN QUESTION\n",
        "name: q6_1\n",
        "-->"
      ]
    },
    {
      "cell_type": "code",
      "metadata": {
        "id": "tgU8rNEV8v7K"
      },
      "source": [
        "# Our solution uses 1 statement split over 3 lines.\n",
        "fruits = ...\n",
        "        ...\n",
        "        ...\n",
        "fruits"
      ],
      "execution_count": null,
      "outputs": []
    },
    {
      "cell_type": "code",
      "metadata": {
        "id": "muQn5WhN8v7K"
      },
      "source": [
        "# HIDDEN SOLUTION\n",
        "fruits.sort(0).column(0).item(0) == 'apple'"
      ],
      "execution_count": null,
      "outputs": []
    },
    {
      "cell_type": "code",
      "metadata": {
        "id": "Rb1dZJTX8v7K"
      },
      "source": [
        "# HIDDEN SOLUTION\n",
        "fruits.sort(0).column(1).item(0) == 4"
      ],
      "execution_count": null,
      "outputs": []
    },
    {
      "cell_type": "code",
      "metadata": {
        "id": "Y8oreU3k8v7K"
      },
      "source": [
        "# HIDDEN SOLUTION\n",
        "fruits.sort(0).column(1).item(1) == 3"
      ],
      "execution_count": null,
      "outputs": []
    },
    {
      "cell_type": "code",
      "metadata": {
        "id": "391U5rpK8v7L"
      },
      "source": [
        "# HIDDEN SOLUTION\n",
        "fruits.sort(0).column(0).item(1) == 'orange'"
      ],
      "execution_count": null,
      "outputs": []
    },
    {
      "cell_type": "markdown",
      "metadata": {
        "deletable": false,
        "editable": false,
        "id": "y2u3fnGj8v7L"
      },
      "source": [
        "**Question 2.** The file `inventory.csv` contains information about the inventory at a fruit stand.  Each row represents the contents of one box of fruit. Load it as a table named `inventory` using the `Table.read_table()` function. `Table.read_table(...)` takes one argument (data file name in string format) and returns a table.\n",
        "\n",
        "<!--\n",
        "BEGIN QUESTION\n",
        "name: q6_2\n",
        "-->"
      ]
    },
    {
      "cell_type": "code",
      "metadata": {
        "id": "gFAJ5gj68v7L"
      },
      "source": [
        "inventory = ...\n",
        "inventory"
      ],
      "execution_count": null,
      "outputs": []
    },
    {
      "cell_type": "code",
      "metadata": {
        "deletable": false,
        "editable": false,
        "id": "W8WXkfyg8v7L"
      },
      "source": [
        "grader.check(\"q6_2\")"
      ],
      "execution_count": null,
      "outputs": []
    },
    {
      "cell_type": "markdown",
      "metadata": {
        "deletable": false,
        "editable": false,
        "id": "xAkTXdzq8v7L"
      },
      "source": [
        "**Question 3.** Does each box at the fruit stand contain a different fruit? Set `all_different` to `True` if each box contains a different fruit or to `False` if multiple boxes contain the same fruit.\n",
        "\n",
        "*Hint:* You don't have to write code to calculate the True/False value for `all_different`. Just look at the `inventory` table and assign `all_different` to either `True` or `False` according to what you can see from the table in answering the question.\n",
        "\n",
        "<!--\n",
        "BEGIN QUESTION\n",
        "name: q6_3\n",
        "-->"
      ]
    },
    {
      "cell_type": "code",
      "metadata": {
        "id": "DGYclQ_18v7L"
      },
      "source": [
        "all_different = ...\n",
        "all_different"
      ],
      "execution_count": null,
      "outputs": []
    },
    {
      "cell_type": "code",
      "metadata": {
        "deletable": false,
        "editable": false,
        "id": "vji1fZ6i8v7M"
      },
      "source": [
        "grader.check(\"q6_3\")"
      ],
      "execution_count": null,
      "outputs": []
    },
    {
      "cell_type": "markdown",
      "metadata": {
        "deletable": false,
        "editable": false,
        "id": "Vu77KLZO8v7M"
      },
      "source": [
        "**Question 4.** The file `sales.csv` contains the number of fruit sold from each box last Saturday.  It has an extra column called \"price per fruit (\\$)\" that's the price *per item of fruit* for fruit in that box.  The rows are in the same order as the `inventory` table.  Load these data into a table called `sales`.\n",
        "\n",
        "<!--\n",
        "BEGIN QUESTION\n",
        "name: q6_4\n",
        "-->"
      ]
    },
    {
      "cell_type": "code",
      "metadata": {
        "id": "aNGH2djn8v7M"
      },
      "source": [
        "sales = ...\n",
        "sales"
      ],
      "execution_count": null,
      "outputs": []
    },
    {
      "cell_type": "code",
      "metadata": {
        "deletable": false,
        "editable": false,
        "id": "ImGRxiTP8v7M"
      },
      "source": [
        "grader.check(\"q6_4\")"
      ],
      "execution_count": null,
      "outputs": []
    },
    {
      "cell_type": "markdown",
      "metadata": {
        "deletable": false,
        "editable": false,
        "id": "gVvjoIT18v7M"
      },
      "source": [
        "**Question 5.** How many fruits did the store sell in total on that day?\n",
        "\n",
        "<!--\n",
        "BEGIN QUESTION\n",
        "name: q6_5\n",
        "-->"
      ]
    },
    {
      "cell_type": "code",
      "metadata": {
        "id": "0SaXo7mZ8v7N"
      },
      "source": [
        "total_fruits_sold = ...\n",
        "total_fruits_sold"
      ],
      "execution_count": null,
      "outputs": []
    },
    {
      "cell_type": "code",
      "metadata": {
        "deletable": false,
        "editable": false,
        "id": "AFWQPGVn8v7N"
      },
      "source": [
        "grader.check(\"q6_5\")"
      ],
      "execution_count": null,
      "outputs": []
    },
    {
      "cell_type": "markdown",
      "metadata": {
        "deletable": false,
        "editable": false,
        "id": "yS1kxLIM8v7N"
      },
      "source": [
        "**Question 6.** What was the store's total revenue (the total price of all fruits sold) on that day?\n",
        "\n",
        "*Hint:* If you're stuck, think first about how you would compute the total revenue from just the grape sales.\n",
        "\n",
        "<!--\n",
        "BEGIN QUESTION\n",
        "name: q6_6\n",
        "-->"
      ]
    },
    {
      "cell_type": "code",
      "metadata": {
        "id": "S3BEF1Dj8v7N"
      },
      "source": [
        "total_revenue = ...\n",
        "total_revenue"
      ],
      "execution_count": null,
      "outputs": []
    },
    {
      "cell_type": "code",
      "metadata": {
        "deletable": false,
        "editable": false,
        "id": "my9kkeDR8v7N"
      },
      "source": [
        "grader.check(\"q6_6\")"
      ],
      "execution_count": null,
      "outputs": []
    },
    {
      "cell_type": "markdown",
      "metadata": {
        "deletable": false,
        "editable": false,
        "id": "gMUN00k28v7O"
      },
      "source": [
        "**Question 7.** Make a new table called `remaining_inventory`.  It should have the same rows and columns as `inventory`, except that the amount of fruit sold from each box should be subtracted from that box's count, so that the \"count\" is the amount of fruit remaining after Saturday.\n",
        "\n",
        "<!--\n",
        "BEGIN QUESTION\n",
        "name: q6_7\n",
        "-->"
      ]
    },
    {
      "cell_type": "code",
      "metadata": {
        "id": "cQNE51VQ8v7O"
      },
      "source": [
        "remaining_inventory = ...\n",
        "    ...\n",
        "    ...\n",
        "    ...\n",
        "remaining_inventory"
      ],
      "execution_count": null,
      "outputs": []
    },
    {
      "cell_type": "code",
      "metadata": {
        "deletable": false,
        "editable": false,
        "id": "BDJGohL-8v7O"
      },
      "source": [
        "grader.check(\"q6_7\")"
      ],
      "execution_count": null,
      "outputs": []
    },
    {
      "cell_type": "markdown",
      "metadata": {
        "deletable": false,
        "editable": false,
        "id": "AZPt1y5x8v7O"
      },
      "source": [
        "---\n",
        "\n",
        "To double-check your work, the cell below will rerun all of the autograder tests."
      ]
    },
    {
      "cell_type": "code",
      "metadata": {
        "deletable": false,
        "editable": false,
        "id": "0WwdNBSL8v7O"
      },
      "source": [
        "grader.check_all()"
      ],
      "execution_count": null,
      "outputs": []
    },
    {
      "cell_type": "markdown",
      "metadata": {
        "deletable": false,
        "editable": false,
        "id": "vf-4TROu8v7O"
      },
      "source": [
        "## Submission\n",
        "\n",
        "Make sure you have run all cells in your notebook in order before running the cell below, so that all images/graphs appear in the output. The cell below will generate a zip file for you to submit. **Please save before exporting!**"
      ]
    },
    {
      "cell_type": "code",
      "metadata": {
        "deletable": false,
        "editable": false,
        "id": "Od0EcJNV8v7P"
      },
      "source": [
        "# Save your notebook first, then run this cell to export your submission.\n",
        "grader.export(pdf=False)"
      ],
      "execution_count": null,
      "outputs": []
    },
    {
      "cell_type": "markdown",
      "metadata": {
        "id": "HuNZ6Xzp8v7P"
      },
      "source": [
        " "
      ]
    }
  ]
}