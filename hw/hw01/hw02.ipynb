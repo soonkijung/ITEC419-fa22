{
 "cells": [
  {
   "cell_type": "code",
   "execution_count": null,
   "id": "dac620a7",
   "metadata": {
    "deletable": false,
    "editable": false
   },
   "outputs": [],
   "source": [
    "# Initialize Otter\n",
    "import otter\n",
    "grader = otter.Notebook(\"hw02.ipynb\")"
   ]
  },
  {
   "cell_type": "markdown",
   "id": "36e3784d",
   "metadata": {},
   "source": [
    "# Homework 2: Arrays and Tables\n",
    "\n",
    "Please complete this notebook by filling in the cells provided. Before you begin, execute the previous cell to load the provided tests."
   ]
  },
  {
   "cell_type": "code",
   "execution_count": null,
   "id": "a045c6fa",
   "metadata": {
    "tags": []
   },
   "outputs": [],
   "source": [
    "# Run this cell and ignore the output. It is checking to see if you ran the first cell! \n",
    "# If you get a NameError, please run the cell at the very TOP of this notebook!\n",
    "\n",
    "grader"
   ]
  },
  {
   "cell_type": "markdown",
   "id": "e7dda778",
   "metadata": {},
   "source": [
    "**Helpful Resource:**\n",
    "- [Python Reference](http://data8.org/sp22/python-reference.html): Cheat sheet of helpful array & table methods used in Data 8!\n",
    "\n",
    "**Recommended Readings:**\n",
    "- [Arrays](https://inferentialthinking.com/chapters/05/1/Arrays.html)\n",
    "- [What is Data Science?](http://www.inferentialthinking.com/chapters/01/what-is-data-science.html)\n",
    "- [Causality and Experiments](http://www.inferentialthinking.com/chapters/02/causality-and-experiments.html) \n",
    "- [Programming in Python](http://www.inferentialthinking.com/chapters/03/programming-in-python.html)\n",
    "\n",
    "For all problems that you must write explanations and sentences for, you **must** provide your answer in the designated space. Moreover, throughout this homework and all future ones, **please be sure to not re-assign variables throughout the notebook!** For example, if you use `max_temperature` in your answer to one question, do not reassign it later on. Otherwise, you will fail tests that you thought you were passing previously!\n",
    "\n",
    "**Deadline:**\n",
    "\n",
    "This assignment is due Thursday, 2/3 at 11:59pm PT. Turn it in by Wednesday, 2/2 at 11:59pm PT for 5 extra credit points. Late work will not be accepted as per the [policies](http://data8.org/sp22/policies.html) page.\n",
    "\n",
    "**Note: This homework has hidden tests on it. That means even though tests may say 100% passed, it doesn't mean your final grade will be 100%. We will be running more tests for correctness once everyone turns in the homework.**\n",
    "\n",
    "Directly sharing answers is not okay, but discussing problems with the course staff or with other students is encouraged. Refer to the policies page to learn more about how to learn cooperatively.\n",
    "\n",
    "You should start early so that you have time to get help if you're stuck. Office hours are held Tuesday through Thursday. The schedule appears on [http://data8.org/sp22/office-hours.html](http://data8.org/sp22/office-hours.html)."
   ]
  },
  {
   "cell_type": "markdown",
   "id": "e999eeef",
   "metadata": {},
   "source": [
    "## 1. Creating Arrays"
   ]
  },
  {
   "cell_type": "code",
   "execution_count": null,
   "id": "d08a4454",
   "metadata": {
    "tags": []
   },
   "outputs": [],
   "source": [
    "# Run this cell to set up the notebook, but please don't change it.\n",
    "\n",
    "import numpy as np\n",
    "from datascience import *\n",
    "import d8error\n",
    "import warnings\n",
    "warnings.simplefilter('ignore', FutureWarning)"
   ]
  },
  {
   "cell_type": "markdown",
   "id": "364ddfd0",
   "metadata": {
    "deletable": false,
    "editable": false
   },
   "source": [
    "**Question 1.** Make an array called `weird_numbers` containing the following numbers (in the given order) **(4 Points)**:\n",
    "\n",
    "1. -2\n",
    "2. the floor of 12.6\n",
    "3. 3\n",
    "4. 5 to the power of the ceil of 5.3\n",
    "\n",
    "*Hint:* `floor` and `ceil` are functions in the `math` module. Importing modules is covered in Lab 2!\n",
    "\n",
    "*Note:* Python lists are different/behave differently than NumPy arrays. In Data 8, we use NumPy arrays, so please make an **array**, not a Python list.\n",
    "\n",
    "<!--\n",
    "BEGIN QUESTION\n",
    "name: q1_1\n",
    "points:\n",
    " - 0\n",
    " - 0\n",
    " - 4\n",
    "-->"
   ]
  },
  {
   "cell_type": "code",
   "execution_count": null,
   "id": "70fb7cae",
   "metadata": {},
   "outputs": [],
   "source": [
    "# Our solution involved one extra line of code before creating\n",
    "# weird_numbers.\n",
    "...\n",
    "weird_numbers = ...\n",
    "weird_numbers"
   ]
  },
  {
   "cell_type": "code",
   "execution_count": null,
   "id": "aab421ee",
   "metadata": {
    "deletable": false,
    "editable": false
   },
   "outputs": [],
   "source": [
    "grader.check(\"q1_1\")"
   ]
  },
  {
   "cell_type": "markdown",
   "id": "1b5cdd97",
   "metadata": {
    "deletable": false,
    "editable": false
   },
   "source": [
    "**Question 2.** Make an array called `book_title_words` containing the following three strings: \"Eats\", \"Shoots\", and \"and Leaves\". **(4 Points)**\n",
    "\n",
    "<!--\n",
    "BEGIN QUESTION\n",
    "name: q1_2\n",
    "points:\n",
    " - 0\n",
    " - 0\n",
    " - 0\n",
    " - 0\n",
    " - 4\n",
    "-->"
   ]
  },
  {
   "cell_type": "code",
   "execution_count": null,
   "id": "c321b6a0",
   "metadata": {},
   "outputs": [],
   "source": [
    "book_title_words = ...\n",
    "book_title_words"
   ]
  },
  {
   "cell_type": "code",
   "execution_count": null,
   "id": "04fa88d7",
   "metadata": {
    "deletable": false,
    "editable": false
   },
   "outputs": [],
   "source": [
    "grader.check(\"q1_2\")"
   ]
  },
  {
   "cell_type": "markdown",
   "id": "905d65f2",
   "metadata": {
    "deletable": false,
    "editable": false
   },
   "source": [
    "Strings have a method called `join`.  `join` takes one argument, an array of strings.  It returns a single string.  Specifically, the value of `a_string.join(an_array)` is a single string that's the [concatenation](https://en.wikipedia.org/wiki/Concatenation) (\"putting together\") of all the strings in `an_array`, **except** `a_string` is inserted in between each string.\n",
    "\n",
    "**Question 3.** Use the array `book_title_words` and the method `join` to make two strings **(4 Points)**:\n",
    "\n",
    "1. \"Eats, Shoots, and Leaves\" (call this one `with_commas`)\n",
    "2. \"Eats Shoots and Leaves\" (call this one `without_commas`)\n",
    "\n",
    "*Hint:* If you're not sure what `join` does, first try just calling, for example, `\"data8\".join(book_title_words)` .\n",
    "\n",
    "<!--\n",
    "BEGIN QUESTION\n",
    "name: q1_3\n",
    "points:\n",
    " - 2\n",
    " - 2\n",
    "-->"
   ]
  },
  {
   "cell_type": "code",
   "execution_count": null,
   "id": "5cf4c633",
   "metadata": {},
   "outputs": [],
   "source": [
    "with_commas = ...\n",
    "without_commas = ...\n",
    "\n",
    "# These lines are provided just to print out your answers.\n",
    "print('with_commas:', with_commas)\n",
    "print('without_commas:', without_commas)"
   ]
  },
  {
   "cell_type": "code",
   "execution_count": null,
   "id": "a67a9f87",
   "metadata": {
    "deletable": false,
    "editable": false
   },
   "outputs": [],
   "source": [
    "grader.check(\"q1_3\")"
   ]
  },
  {
   "cell_type": "markdown",
   "id": "c99591f8",
   "metadata": {},
   "source": [
    "## 2. Indexing Arrays"
   ]
  },
  {
   "cell_type": "markdown",
   "id": "ee0138b3",
   "metadata": {},
   "source": [
    "These exercises give you practice accessing individual elements of arrays.  In Python (and in many programming languages), each element is accessed by its *index*; for example, the first element is the element at index 0. Indices must be **integers**.\n",
    "\n",
    "***Note:* If you have previous coding experience, you may be familiar with bracket notation. DO NOT use bracket notation when indexing (i.e. `arr[0]`), as this can yield different data type outputs than what we will be expecting. This can cause you to fail an autograder test.**\n",
    "\n",
    "Be sure to refer to the [Python Reference](http://data8.org/sp22/python-reference.html) on the website if you feel stuck!"
   ]
  },
  {
   "cell_type": "markdown",
   "id": "1bca4520",
   "metadata": {
    "deletable": false,
    "editable": false
   },
   "source": [
    "**Question 1.** The cell below creates an array of some numbers.  Set `third_element` to the third element of `some_numbers`. **(4 Points)**\n",
    "\n",
    "<!--\n",
    "BEGIN QUESTION\n",
    "name: q2_1\n",
    "points:\n",
    " - 0\n",
    " - 4\n",
    "-->"
   ]
  },
  {
   "cell_type": "code",
   "execution_count": null,
   "id": "37c5e868",
   "metadata": {},
   "outputs": [],
   "source": [
    "some_numbers = make_array(-1, -3, -6, -10, -15)\n",
    "\n",
    "third_element = ...\n",
    "third_element"
   ]
  },
  {
   "cell_type": "code",
   "execution_count": null,
   "id": "19bf865f",
   "metadata": {
    "deletable": false,
    "editable": false
   },
   "outputs": [],
   "source": [
    "grader.check(\"q2_1\")"
   ]
  },
  {
   "cell_type": "markdown",
   "id": "df22daa9",
   "metadata": {
    "deletable": false,
    "editable": false
   },
   "source": [
    "**Question 2.** The next cell creates a table that displays some information about the elements of `some_numbers` and their order.  Run the cell to see the partially-completed table, then fill in the missing information (the cells that say \"Ellipsis\") by assigning `blank_a`, `blank_b`, `blank_c`, and `blank_d` to the correct elements in the table. **(4 Points)**\n",
    "\n",
    "*Hint:* Replace the `...` with strings or numbers. As a reminder, indices should be **integers**.\n",
    "\n",
    "<!--\n",
    "BEGIN QUESTION\n",
    "name: q2_2\n",
    "points:\n",
    " - 1\n",
    " - 1\n",
    " - 1\n",
    " - 1\n",
    "-->"
   ]
  },
  {
   "cell_type": "code",
   "execution_count": null,
   "id": "8464ef97",
   "metadata": {
    "for_assignment_type": "student"
   },
   "outputs": [],
   "source": [
    "blank_a = ...\n",
    "blank_b = ...\n",
    "blank_c = ...\n",
    "blank_d = ...\n",
    "elements_of_some_numbers = Table().with_columns(\n",
    "    \"English name for position\", make_array(\"first\", \"second\", blank_a, blank_b, \"fifth\"),\n",
    "    \"Index\",                     make_array(blank_c, 1, 2, blank_d, 4),\n",
    "    \"Element\",                   some_numbers)\n",
    "elements_of_some_numbers"
   ]
  },
  {
   "cell_type": "code",
   "execution_count": null,
   "id": "debf6504",
   "metadata": {
    "deletable": false,
    "editable": false
   },
   "outputs": [],
   "source": [
    "grader.check(\"q2_2\")"
   ]
  },
  {
   "cell_type": "markdown",
   "id": "27730b7a",
   "metadata": {
    "deletable": false,
    "editable": false
   },
   "source": [
    "**Question 3.** You'll sometimes want to find the **last** element of an array.  Suppose an array has 142 elements.  What is the index of its last element? **(4 Points)**\n",
    "\n",
    "<!--\n",
    "BEGIN QUESTION\n",
    "name: q2_3\n",
    "points:\n",
    " - 4\n",
    "-->"
   ]
  },
  {
   "cell_type": "code",
   "execution_count": null,
   "id": "439d1644",
   "metadata": {},
   "outputs": [],
   "source": [
    "index_of_last_element = ..."
   ]
  },
  {
   "cell_type": "code",
   "execution_count": null,
   "id": "c4da6a8f",
   "metadata": {
    "deletable": false,
    "editable": false
   },
   "outputs": [],
   "source": [
    "grader.check(\"q2_3\")"
   ]
  },
  {
   "cell_type": "markdown",
   "id": "a62e929b",
   "metadata": {
    "deletable": false,
    "editable": false
   },
   "source": [
    "More often, you don't know the number of elements in an array, its *length*.  (For example, it might be a large dataset you found on the Internet.)  The function `len` takes a single argument, an array, and returns an integer that represents the `len`gth of that array.\n",
    "\n",
    "**Question 4.** The cell below loads an array called `president_birth_years`.  Calling `tbl.column(...)` on a table returns an array of the column specified, in this case the `Birth Year` column of the `president_births` table. The last element in that array is the most recent among the birth years of all the deceased Presidents. Assign that year to `most_recent_birth_year`. **(4 Points)**\n",
    "\n",
    "<!--\n",
    "BEGIN QUESTION\n",
    "name: q2_4\n",
    "points:\n",
    " - 4\n",
    "-->"
   ]
  },
  {
   "cell_type": "code",
   "execution_count": null,
   "id": "f05eb06f",
   "metadata": {},
   "outputs": [],
   "source": [
    "president_birth_years = Table.read_table(\"president_births.csv\").column('Birth Year')\n",
    "\n",
    "most_recent_birth_year = ...\n",
    "most_recent_birth_year"
   ]
  },
  {
   "cell_type": "code",
   "execution_count": null,
   "id": "a865fa20",
   "metadata": {
    "deletable": false,
    "editable": false
   },
   "outputs": [],
   "source": [
    "grader.check(\"q2_4\")"
   ]
  },
  {
   "cell_type": "markdown",
   "id": "2b3d1117",
   "metadata": {
    "deletable": false,
    "editable": false
   },
   "source": [
    "**Question 5.** Finally, assign `min_of_birth_years` to the minimum of the first, sixteenth, and last birth years listed in `president_birth_years`. **(4 Points)**\n",
    "\n",
    "<!--\n",
    "BEGIN QUESTION\n",
    "name: q2_5\n",
    "points:\n",
    " - 0\n",
    " - 4\n",
    "-->"
   ]
  },
  {
   "cell_type": "code",
   "execution_count": null,
   "id": "75d13f76",
   "metadata": {},
   "outputs": [],
   "source": [
    "min_of_birth_years = ...\n",
    "min_of_birth_years"
   ]
  },
  {
   "cell_type": "code",
   "execution_count": null,
   "id": "81545b8e",
   "metadata": {
    "deletable": false,
    "editable": false
   },
   "outputs": [],
   "source": [
    "grader.check(\"q2_5\")"
   ]
  },
  {
   "cell_type": "markdown",
   "id": "1a9ec6cd",
   "metadata": {},
   "source": [
    "## 3. Basic Array Arithmetic"
   ]
  },
  {
   "cell_type": "markdown",
   "id": "004c1e6e",
   "metadata": {
    "deletable": false,
    "editable": false
   },
   "source": [
    "**Question 1.** Multiply the numbers 42, -4224, 424224242, and 250 by 157. Assign each variable below such that `first_product` is assigned to the result of $42 * 157$, `second_product` is assigned to the result of $-4224 * 157$, and so on. **(4 Points)**\n",
    "\n",
    "*Note*: For this question, **don't** use arrays.\n",
    "\n",
    "<!--\n",
    "BEGIN QUESTION\n",
    "name: q3_1\n",
    "points:\n",
    " - 0\n",
    " - 4\n",
    "-->"
   ]
  },
  {
   "cell_type": "code",
   "execution_count": null,
   "id": "f8416ed7",
   "metadata": {},
   "outputs": [],
   "source": [
    "first_product = ...\n",
    "second_product = ...\n",
    "third_product = ...\n",
    "fourth_product = ...\n",
    "print(\"First Product:\", first_product)\n",
    "print(\"Second Product:\", second_product)\n",
    "print(\"Third Product:\", third_product)\n",
    "print(\"Fourth Product:\", fourth_product)"
   ]
  },
  {
   "cell_type": "code",
   "execution_count": null,
   "id": "7318ed01",
   "metadata": {
    "deletable": false,
    "editable": false
   },
   "outputs": [],
   "source": [
    "grader.check(\"q3_1\")"
   ]
  },
  {
   "cell_type": "markdown",
   "id": "43d025db",
   "metadata": {
    "deletable": false,
    "editable": false
   },
   "source": [
    "**Question 2.** Now, do the same calculation, but using an array called `numbers` and only a single multiplication (`*`) operator.  Store the 4 results in an array named `products`. **(4 Points)**\n",
    "\n",
    "<!--\n",
    "BEGIN QUESTION\n",
    "name: q3_2\n",
    "points:\n",
    " - 0\n",
    " - 4\n",
    "-->"
   ]
  },
  {
   "cell_type": "code",
   "execution_count": null,
   "id": "6e1c8d00",
   "metadata": {},
   "outputs": [],
   "source": [
    "numbers = ...\n",
    "products = ...\n",
    "products"
   ]
  },
  {
   "cell_type": "code",
   "execution_count": null,
   "id": "1e1f7d25",
   "metadata": {
    "deletable": false,
    "editable": false
   },
   "outputs": [],
   "source": [
    "grader.check(\"q3_2\")"
   ]
  },
  {
   "cell_type": "markdown",
   "id": "fb09d445",
   "metadata": {
    "deletable": false,
    "editable": false
   },
   "source": [
    "**Question 3.** Oops, we made a typo!  Instead of 157, we wanted to multiply each number by 1577.  Compute the correct products in the cell below using array arithmetic.  Notice that your job is really easy if you previously defined an array containing the 4 numbers. **(4 Points)**\n",
    "\n",
    "<!--\n",
    "BEGIN QUESTION\n",
    "name: q3_3\n",
    "points:\n",
    " - 0\n",
    " - 4\n",
    "-->"
   ]
  },
  {
   "cell_type": "code",
   "execution_count": null,
   "id": "1fcf13d9",
   "metadata": {},
   "outputs": [],
   "source": [
    "correct_products = ...\n",
    "correct_products"
   ]
  },
  {
   "cell_type": "code",
   "execution_count": null,
   "id": "811e829f",
   "metadata": {
    "deletable": false,
    "editable": false
   },
   "outputs": [],
   "source": [
    "grader.check(\"q3_3\")"
   ]
  },
  {
   "cell_type": "markdown",
   "id": "d68e1f20",
   "metadata": {
    "deletable": false,
    "editable": false
   },
   "source": [
    "**Question 4.** We've loaded an array of temperatures in the next cell.  Each number is the highest temperature observed on a day at a climate observation station, mostly from the US.  Since they're from the US government agency [NOAA](https://www.noaa.gov/), all the temperatures are in Fahrenheit.\n",
    "\n",
    "Convert all the temperatures to Celsius by first subtracting 32 from them, then multiplying the results by $\\frac{5}{9}$, i.e. $C = (F - 32) * \\frac{5}{9}$. After converting the temperatures to Celsius, make sure to **ROUND** the final result  to the nearest integer using the `np.round` function. **(4 Points)**\n",
    "\n",
    "<!--\n",
    "BEGIN QUESTION\n",
    "name: q3_4\n",
    "points:\n",
    " - 1\n",
    " - 1\n",
    " - 1\n",
    " - 1\n",
    "-->"
   ]
  },
  {
   "cell_type": "code",
   "execution_count": null,
   "id": "8eb9a2d8",
   "metadata": {},
   "outputs": [],
   "source": [
    "max_temperatures = Table.read_table(\"temperatures.csv\").column(\"Daily Max Temperature\")\n",
    "\n",
    "celsius_max_temperatures = ...\n",
    "celsius_max_temperatures"
   ]
  },
  {
   "cell_type": "code",
   "execution_count": null,
   "id": "31eef4a3",
   "metadata": {
    "deletable": false,
    "editable": false
   },
   "outputs": [],
   "source": [
    "grader.check(\"q3_4\")"
   ]
  },
  {
   "cell_type": "markdown",
   "id": "206da3c4",
   "metadata": {
    "deletable": false,
    "editable": false
   },
   "source": [
    "**Question 5.** The cell below loads all the *lowest* temperatures from each day (in Fahrenheit).  Compute the daily temperature range for each day. That is, compute the difference between each daily maximum temperature and the corresponding daily minimum temperature.  **Pay attention to the units and give your answer in Celsius!** Make sure **NOT** to round your answer for this question! **(4 Points)**\n",
    "\n",
    "*Note:* Remember that in Question 4, `celsius_max_temperatures` was rounded, so you might not want to use that variable in this question.\n",
    "\n",
    "\n",
    "<!--\n",
    "BEGIN QUESTION\n",
    "name: q3_5\n",
    "points:\n",
    " - 0\n",
    " - 4\n",
    " - 0\n",
    "-->"
   ]
  },
  {
   "cell_type": "code",
   "execution_count": null,
   "id": "cab13feb",
   "metadata": {},
   "outputs": [],
   "source": [
    "min_temperatures = Table.read_table(\"temperatures.csv\").column(\"Daily Min Temperature\")\n",
    "\n",
    "celsius_temperature_ranges = ...\n",
    "celsius_temperature_ranges"
   ]
  },
  {
   "cell_type": "code",
   "execution_count": null,
   "id": "4f711061",
   "metadata": {
    "deletable": false,
    "editable": false
   },
   "outputs": [],
   "source": [
    "grader.check(\"q3_5\")"
   ]
  },
  {
   "cell_type": "markdown",
   "id": "8454468d",
   "metadata": {},
   "source": [
    "## 4. Old Faithful"
   ]
  },
  {
   "cell_type": "markdown",
   "id": "d0518fc7",
   "metadata": {},
   "source": [
    "Old Faithful is a geyser in Yellowstone that erupts every 44 to 125 minutes (according to [Wikipedia](https://en.wikipedia.org/wiki/Old_Faithful)). People are [often told that the geyser erupts every hour](http://yellowstone.net/geysers/old-faithful/), but in fact the waiting time between eruptions is more variable. Let's take a look."
   ]
  },
  {
   "cell_type": "markdown",
   "id": "2cca46aa",
   "metadata": {
    "deletable": false,
    "editable": false
   },
   "source": [
    "**Question 1.** The first line below assigns `waiting_times` to an array of 272 consecutive waiting times between eruptions, taken from a classic 1938 dataset. Assign the names `shortest`, `longest`, and `average` so that the `print` statement is correct. **(4 Points)**\n",
    "\n",
    "<!--\n",
    "BEGIN QUESTION\n",
    "name: q4_1\n",
    "points:\n",
    " - 0\n",
    " - 0\n",
    " - 2\n",
    " - 2\n",
    "-->"
   ]
  },
  {
   "cell_type": "code",
   "execution_count": null,
   "id": "a173cba8",
   "metadata": {},
   "outputs": [],
   "source": [
    "waiting_times = Table.read_table('old_faithful.csv').column('waiting')\n",
    "\n",
    "shortest = ...\n",
    "longest = ...\n",
    "average = ...\n",
    "\n",
    "print(\"Old Faithful erupts every\", shortest, \"to\", longest, \"minutes and every\", average, \"minutes on average.\")"
   ]
  },
  {
   "cell_type": "code",
   "execution_count": null,
   "id": "05c024c4",
   "metadata": {
    "deletable": false,
    "editable": false
   },
   "outputs": [],
   "source": [
    "grader.check(\"q4_1\")"
   ]
  },
  {
   "cell_type": "markdown",
   "id": "07bae53f",
   "metadata": {
    "deletable": false,
    "editable": false
   },
   "source": [
    "**Question 2.** Assign `biggest_decrease` to the biggest decrease in waiting time between two consecutive eruptions. For example, the third eruption occurred after 74 minutes and the fourth after 62 minutes, so the decrease in waiting time was 74 - 62 = 12 minutes. **(4 Points)**\n",
    "\n",
    "*Hint*: We want to return the absolute value of the biggest decrease.\n",
    "\n",
    "*Note*: `np.diff()` calculates the difference between subsequent values in an array. For example, calling `np.diff()` on the array `make_array(1, 8, 3, 5)` evaluates to `array([8 - 1, 3 - 8, 5 - 3])`, or `array([7, -5, 2])`.\n",
    "\n",
    "<!--\n",
    "BEGIN QUESTION\n",
    "name: q4_2\n",
    "points:\n",
    " - 0\n",
    " - 0\n",
    " - 4\n",
    "-->"
   ]
  },
  {
   "cell_type": "code",
   "execution_count": null,
   "id": "2a321ac3",
   "metadata": {},
   "outputs": [],
   "source": [
    "# np.diff() calculates the difference between subsequent values  \n",
    "# in a NumPy array.\n",
    "differences = np.diff(waiting_times)\n",
    "biggest_decrease = ...\n",
    "biggest_decrease"
   ]
  },
  {
   "cell_type": "code",
   "execution_count": null,
   "id": "ed7fd902",
   "metadata": {
    "deletable": false,
    "editable": false
   },
   "outputs": [],
   "source": [
    "grader.check(\"q4_2\")"
   ]
  },
  {
   "cell_type": "markdown",
   "id": "c7a96a0c",
   "metadata": {
    "deletable": false,
    "editable": false
   },
   "source": [
    "**Question 3.** The `faithful_with_eruption_nums` table contains two columns: `eruption_number`, which represents the number of that eruption, and `waiting`, which represents the time spent waiting after that eruption. For example, take the first two rows of the table:\n",
    "\n",
    "| eruption number | waiting |\n",
    "|-----------------|---------|\n",
    "| 1               | 79      |\n",
    "| 2               | 54      |\n",
    "\n",
    "We can read this as follows: after the first eruption, we waited 79 minutes for the second eruption. Then, after the second eruption, we waited 54 minutes for the third eruption.\n",
    "\n",
    "Suppose Oscar and Wendy started watching Old Faithful at the start of the first eruption. Assume that they watch until the end of the tenth eruption. For some of that time they will be watching eruptions, and for the rest of the time they will be waiting for Old Faithful to erupt. How many minutes will they spend waiting for eruptions? **(4 Points)**\n",
    "\n",
    "*Hint #1:* One way to approach this problem is to use the `take` or `where` method on the table `faithful_with_eruption_nums`. \n",
    "\n",
    "*Hint #2:* `first_nine_waiting_times` must be an array.\n",
    "\n",
    "<!--\n",
    "BEGIN QUESTION\n",
    "name: q4_3\n",
    "points:\n",
    " - 0\n",
    " - 4\n",
    "-->"
   ]
  },
  {
   "cell_type": "code",
   "execution_count": null,
   "id": "2e0d96bf",
   "metadata": {},
   "outputs": [],
   "source": [
    "# The following two lines load in our faithful_with_eruption_nums table\n",
    "faithful = Table.read_table('old_faithful.csv').drop(\"eruptions\")\n",
    "faithful_with_eruption_nums = faithful.with_column(\"eruption number\", np.arange(faithful.num_rows) + 1).select(1, 0)\n",
    "\n",
    "first_nine_waiting_times = ...\n",
    "total_waiting_time_until_tenth = ...\n",
    "total_waiting_time_until_tenth"
   ]
  },
  {
   "cell_type": "code",
   "execution_count": null,
   "id": "2e33ea20",
   "metadata": {
    "deletable": false,
    "editable": false
   },
   "outputs": [],
   "source": [
    "grader.check(\"q4_3\")"
   ]
  },
  {
   "cell_type": "markdown",
   "id": "4877527f",
   "metadata": {
    "deletable": false,
    "editable": false
   },
   "source": [
    "**Question 4.** Let’s imagine your guess for the next waiting time was always just the length of the previous waiting time. If you always guessed the previous waiting time, how big would your error in guessing the waiting times be, on average? **(4 Points)**\n",
    "\n",
    "For example, since the first four waiting times are 79, 54, 74, and 62, the average difference between your guess and the actual time for just the second, third, and fourth eruptions would be $\\frac{|79-54|+ |54-74|+ |74-62|}{3} = 19$.\n",
    "\n",
    "<!--\n",
    "BEGIN QUESTION\n",
    "name: q4_4\n",
    "points:\n",
    " - 0\n",
    " - 4\n",
    "-->"
   ]
  },
  {
   "cell_type": "code",
   "execution_count": null,
   "id": "39e790ce",
   "metadata": {},
   "outputs": [],
   "source": [
    "differences = np.diff(waiting_times)\n",
    "average_error = ...\n",
    "average_error"
   ]
  },
  {
   "cell_type": "code",
   "execution_count": null,
   "id": "528fc1dc",
   "metadata": {
    "deletable": false,
    "editable": false
   },
   "outputs": [],
   "source": [
    "grader.check(\"q4_4\")"
   ]
  },
  {
   "cell_type": "markdown",
   "id": "ff5a82c5",
   "metadata": {},
   "source": [
    "## 5. Tables"
   ]
  },
  {
   "cell_type": "markdown",
   "id": "eaf417bd",
   "metadata": {
    "deletable": false,
    "editable": false
   },
   "source": [
    "**Question 1.** Suppose you have 4 apples, 3 oranges, and 3 pineapples.  (Perhaps you're using Python to solve a high school Algebra problem.)  Create a table that contains this information.  It should have two columns: `fruit name` and `count`.  Assign the new table to the variable `fruits`. **(4 Points)**\n",
    "\n",
    "*Note:* Use lower-case and singular words for the name of each fruit, like `\"apple\"`.\n",
    "\n",
    "<!--\n",
    "BEGIN QUESTION\n",
    "name: q5_1\n",
    "points:\n",
    " - 4\n",
    "-->"
   ]
  },
  {
   "cell_type": "code",
   "execution_count": null,
   "id": "9406d81b",
   "metadata": {},
   "outputs": [],
   "source": [
    "# Our solution uses 1 statement split over 3 lines.\n",
    "fruits = ...\n",
    "        ...\n",
    "        ...\n",
    "fruits"
   ]
  },
  {
   "cell_type": "code",
   "execution_count": null,
   "id": "00d44e09",
   "metadata": {
    "deletable": false,
    "editable": false
   },
   "outputs": [],
   "source": [
    "grader.check(\"q5_1\")"
   ]
  },
  {
   "cell_type": "markdown",
   "id": "88cb949d",
   "metadata": {
    "deletable": false,
    "editable": false
   },
   "source": [
    "**Question 2.** The file `inventory.csv` contains information about the inventory at a fruit stand.  Each row represents the contents of one box of fruit. Load it as a table named `inventory` using the `Table.read_table()` function. `Table.read_table(...)` takes one argument (data file name in string format) and returns a table. **(4 Points)**\n",
    "\n",
    "<!--\n",
    "BEGIN QUESTION\n",
    "name: q5_2\n",
    "points:\n",
    " - 4\n",
    "-->"
   ]
  },
  {
   "cell_type": "code",
   "execution_count": null,
   "id": "cb07efc7",
   "metadata": {},
   "outputs": [],
   "source": [
    "inventory = ...\n",
    "inventory"
   ]
  },
  {
   "cell_type": "code",
   "execution_count": null,
   "id": "598fc67f",
   "metadata": {
    "deletable": false,
    "editable": false
   },
   "outputs": [],
   "source": [
    "grader.check(\"q5_2\")"
   ]
  },
  {
   "cell_type": "markdown",
   "id": "b3970109",
   "metadata": {
    "deletable": false,
    "editable": false
   },
   "source": [
    "**Question 3.** Does each box at the fruit stand contain a different fruit? Set `all_different` to `True` if each box contains a different fruit or to `False` if multiple boxes contain the same fruit. **(4 Points)**\n",
    "\n",
    "*Hint:* You don't have to write code to calculate the True/False value for `all_different`. Just look at the `inventory` table and assign `all_different` to either `True` or `False` according to what you can see from the table in answering the question.\n",
    "\n",
    "<!--\n",
    "BEGIN QUESTION\n",
    "name: q5_3\n",
    "points:\n",
    " - 0\n",
    " - 4\n",
    "-->"
   ]
  },
  {
   "cell_type": "code",
   "execution_count": null,
   "id": "b56bba14",
   "metadata": {},
   "outputs": [],
   "source": [
    "all_different = ...\n",
    "all_different"
   ]
  },
  {
   "cell_type": "code",
   "execution_count": null,
   "id": "e779eaa7",
   "metadata": {
    "deletable": false,
    "editable": false
   },
   "outputs": [],
   "source": [
    "grader.check(\"q5_3\")"
   ]
  },
  {
   "cell_type": "markdown",
   "id": "cfbd0552",
   "metadata": {
    "deletable": false,
    "editable": false
   },
   "source": [
    "**Question 4.** The file `sales.csv` contains the number of fruit sold from each box last Saturday.  It has an extra column called `price per fruit ($)` that's the price *per item of fruit* for fruit in that box.  The rows are in the same order as the `inventory` table.  Load these data into a table called `sales`. **(5 Points)**\n",
    "\n",
    "<!--\n",
    "BEGIN QUESTION\n",
    "name: q5_4\n",
    "points:\n",
    " - 5\n",
    "-->"
   ]
  },
  {
   "cell_type": "code",
   "execution_count": null,
   "id": "9392a22a",
   "metadata": {},
   "outputs": [],
   "source": [
    "sales = ...\n",
    "sales"
   ]
  },
  {
   "cell_type": "code",
   "execution_count": null,
   "id": "728e488f",
   "metadata": {
    "deletable": false,
    "editable": false
   },
   "outputs": [],
   "source": [
    "grader.check(\"q5_4\")"
   ]
  },
  {
   "cell_type": "markdown",
   "id": "54e298f6",
   "metadata": {
    "deletable": false,
    "editable": false
   },
   "source": [
    "**Question 5.** How many fruits did the store sell in total on that day? **(5 Points)**\n",
    "\n",
    "<!--\n",
    "BEGIN QUESTION\n",
    "name: q5_5\n",
    "points:\n",
    " - 0\n",
    " - 5\n",
    "-->"
   ]
  },
  {
   "cell_type": "code",
   "execution_count": null,
   "id": "fc545771",
   "metadata": {},
   "outputs": [],
   "source": [
    "total_fruits_sold = ...\n",
    "total_fruits_sold"
   ]
  },
  {
   "cell_type": "code",
   "execution_count": null,
   "id": "e7d8cea1",
   "metadata": {
    "deletable": false,
    "editable": false
   },
   "outputs": [],
   "source": [
    "grader.check(\"q5_5\")"
   ]
  },
  {
   "cell_type": "markdown",
   "id": "f6644f99",
   "metadata": {
    "deletable": false,
    "editable": false
   },
   "source": [
    "**Question 6.** What was the store's total revenue (the total price of all fruits sold) on that day? **(5 Points)**\n",
    "\n",
    "*Hint:* If you're stuck, think first about how you would compute the total revenue from just the grape sales.\n",
    "\n",
    "<!--\n",
    "BEGIN QUESTION\n",
    "name: q5_6\n",
    "points:\n",
    " - 0\n",
    " - 5\n",
    "-->"
   ]
  },
  {
   "cell_type": "code",
   "execution_count": null,
   "id": "3d311b7a",
   "metadata": {},
   "outputs": [],
   "source": [
    "total_revenue = ...\n",
    "total_revenue"
   ]
  },
  {
   "cell_type": "code",
   "execution_count": null,
   "id": "db5e5fb9",
   "metadata": {
    "deletable": false,
    "editable": false
   },
   "outputs": [],
   "source": [
    "grader.check(\"q5_6\")"
   ]
  },
  {
   "cell_type": "markdown",
   "id": "3630a2bf",
   "metadata": {
    "deletable": false,
    "editable": false
   },
   "source": [
    "**Question 7.** Make a new table called `remaining_inventory`.  It should have the same rows and columns as `inventory`, except that the amount of fruit sold from each box should be subtracted from that box's **original** count, so that the `count` column is **updated to be** the amount of fruit remaining after Saturday. **(5 Points)**\n",
    "\n",
    "<!--\n",
    "BEGIN QUESTION\n",
    "name: q5_7\n",
    "points:\n",
    " - 0\n",
    " - 2\n",
    " - 3\n",
    "-->"
   ]
  },
  {
   "cell_type": "code",
   "execution_count": null,
   "id": "0bf5830e",
   "metadata": {},
   "outputs": [],
   "source": [
    "remaining_inventory = ...\n",
    "    ...\n",
    "    ...\n",
    "    ...\n",
    "remaining_inventory"
   ]
  },
  {
   "cell_type": "code",
   "execution_count": null,
   "id": "fd4997c5",
   "metadata": {
    "deletable": false,
    "editable": false
   },
   "outputs": [],
   "source": [
    "grader.check(\"q5_7\")"
   ]
  },
  {
   "cell_type": "markdown",
   "id": "423b3902",
   "metadata": {},
   "source": [
    "You're done with Homework 2!  \n",
    "\n",
    "**Important submission information:** Be sure to run the tests and verify that they all pass, then choose **Save Notebook** from the **File** menu, then **run the final cell** and click the link to download the zip file. Then, go to [Gradescope](https://www.gradescope.com/courses/349879) and submit the zip file to the corresponding assignment. The name of this assignment is \"Homework 02 Autograder\". **It is your responsibility to make sure your work is saved before running the last cell.**\n",
    "\n",
    "Once you have submitted, your Gradescope assignment should show you passing all the tests you passed in your assignment notebook."
   ]
  },
  {
   "cell_type": "markdown",
   "id": "52a36664",
   "metadata": {
    "deletable": false,
    "editable": false
   },
   "source": [
    "---\n",
    "\n",
    "To double-check your work, the cell below will rerun all of the autograder tests."
   ]
  },
  {
   "cell_type": "code",
   "execution_count": null,
   "id": "d7b68525",
   "metadata": {
    "deletable": false,
    "editable": false
   },
   "outputs": [],
   "source": [
    "grader.check_all()"
   ]
  },
  {
   "cell_type": "markdown",
   "id": "8c9d1916",
   "metadata": {
    "deletable": false,
    "editable": false
   },
   "source": [
    "## Submission\n",
    "\n",
    "Make sure you have run all cells in your notebook in order before running the cell below, so that all images/graphs appear in the output. The cell below will generate a zip file for you to submit. **Please save before exporting!**"
   ]
  },
  {
   "cell_type": "code",
   "execution_count": null,
   "id": "53233b9a",
   "metadata": {
    "deletable": false,
    "editable": false
   },
   "outputs": [],
   "source": [
    "# Save your notebook first, then run this cell to export your submission.\n",
    "grader.export(pdf=False)"
   ]
  },
  {
   "cell_type": "markdown",
   "id": "1f3f9913",
   "metadata": {},
   "source": [
    " "
   ]
  }
 ],
 "metadata": {
  "kernelspec": {
   "display_name": "Python 3 (ipykernel)",
   "language": "python",
   "name": "python3"
  },
  "language_info": {
   "codemirror_mode": {
    "name": "ipython",
    "version": 3
   },
   "file_extension": ".py",
   "mimetype": "text/x-python",
   "name": "python",
   "nbconvert_exporter": "python",
   "pygments_lexer": "ipython3",
   "version": "3.7.3"
  }
 },
 "nbformat": 4,
 "nbformat_minor": 5
}
